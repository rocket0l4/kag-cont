{
  "nbformat": 4,
  "nbformat_minor": 0,
  "metadata": {
    "colab": {
      "provenance": [],
      "authorship_tag": "ABX9TyM1rRTW3yC0qApuJV6cBa1N",
      "include_colab_link": true
    },
    "kernelspec": {
      "name": "python3",
      "display_name": "Python 3"
    },
    "language_info": {
      "name": "python"
    }
  },
  "cells": [
    {
      "cell_type": "markdown",
      "metadata": {
        "id": "view-in-github",
        "colab_type": "text"
      },
      "source": [
        "<a href=\"https://colab.research.google.com/github/rocket0l4/kag-cont/blob/main/Submission_code.ipynb\" target=\"_parent\"><img src=\"https://colab.research.google.com/assets/colab-badge.svg\" alt=\"Open In Colab\"/></a>"
      ]
    },
    {
      "cell_type": "code",
      "execution_count": null,
      "metadata": {
        "id": "sjUUZMEveRtM"
      },
      "outputs": [],
      "source": [
        "submission = pd.DataFrame({\n",
        "    'id': test_ids,  # Use the preserved 'id's\n",
        "    'Premium Amount': preds_test\n",
        "})\n",
        "\n",
        "# Verify the submission format\n",
        "print(submission.head())\n",
        "\n",
        "# Save the submission to a CSV file\n",
        "submission.to_csv('submission.csv', index=False)\n",
        "\n",
        "print(\"Submission file 'submission.csv' created successfully.\")"
      ]
    }
  ]
}